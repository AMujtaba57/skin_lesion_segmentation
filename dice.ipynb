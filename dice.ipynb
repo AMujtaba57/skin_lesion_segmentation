{
 "cells": [
  {
   "cell_type": "code",
   "execution_count": 2,
   "metadata": {},
   "outputs": [],
   "source": [
    "import numpy as np\n",
    "import cv2\n",
    "import matplotlib.pyplot as plt\n",
    "import tensorflow as tf\n",
    "import os"
   ]
  },
  {
   "cell_type": "code",
   "execution_count": 3,
   "metadata": {},
   "outputs": [],
   "source": [
    "# Dice similarity function\n",
    "def dice(pred, true, k = 1):\n",
    "    intersection = np.sum(pred[true!=k]) * 2.0\n",
    "    dice = intersection / (np.sum(pred) + np.sum(true))\n",
    "    return dice"
   ]
  },
  {
   "cell_type": "code",
   "execution_count": 4,
   "metadata": {},
   "outputs": [],
   "source": [
    "images_folder = \"image/\"\n",
    "file_img = os.listdir(images_folder)"
   ]
  },
  {
   "cell_type": "code",
   "execution_count": 5,
   "metadata": {},
   "outputs": [],
   "source": [
    "similarity_score = []\n",
    "for index, i in enumerate(file_img):\n",
    "    y_true = cv2.imread(f'image/{i}') \n",
    "    y_pred = cv2.imread(f'predicted_img/{i}')\n",
    "\n",
    "    y_true = cv2.cvtColor(y_true, cv2.COLOR_BGR2GRAY)\n",
    "    y_pred = cv2.cvtColor(y_pred, cv2.COLOR_BGR2GRAY)\n",
    "\n",
    "    y_true = cv2.resize(y_true, (224, 224))\n",
    "    y_pred = cv2.resize(y_pred, (224, 224))\n",
    "    \n",
    "    dice_score = dice(y_pred, y_true, k=255)\n",
    "\n",
    "    similarity_score.append(dice_score)"
   ]
  },
  {
   "cell_type": "code",
   "execution_count": 20,
   "metadata": {},
   "outputs": [
    {
     "data": {
      "image/png": "[encoded data removed]",
      "text/plain": [
       "<Figure size 1080x360 with 1 Axes>"
      ]
     },
     "metadata": {
      "needs_background": "light"
     },
     "output_type": "display_data"
    }
   ],
   "source": [
    "plt.figure(figsize=(15,5))\n",
    "plt.bar([i for i in range (1, len(similarity_score)+1)], similarity_score)\n",
    "plt.tick_params(bottom=False,left=False)\n",
    "plt.title(\"Dice Similarity Score of all the Images\")\n",
    "plt.xlabel(\" number of the image\")\n",
    "plt.ylabel(\"dice similarity\")\n",
    "plt.xticks(np.arange(1,len(similarity_score)+1, 1))\n",
    "plt.grid(True,linewidth=0.5,alpha=0.5)\n",
    "plt.legend([\"Dice Similarity Score\"])\n",
    "plt.show()"
   ]
  },
  {
   "cell_type": "code",
   "execution_count": 15,
   "metadata": {},
   "outputs": [
    {
     "name": "stdout",
     "output_type": "stream",
     "text": [
      "Mean Dice Similarity Value for all 60-images: 0.5123016570698135\n"
     ]
    }
   ],
   "source": [
    "print(\"Mean Dice Similarity Value for all 60-images: {}\".format(np.mean(similarity_score)))"
   ]
  },
  {
   "cell_type": "code",
   "execution_count": 16,
   "metadata": {},
   "outputs": [
    {
     "name": "stdout",
     "output_type": "stream",
     "text": [
      "Standard Deviation Dice Similarity Value for all 60-images: 0.18893575607832033\n"
     ]
    }
   ],
   "source": [
    "print(\"Standard Deviation Dice Similarity Value for all 60-images: {}\".format(np.std(similarity_score)))\n"
   ]
  },
  {
   "cell_type": "code",
   "execution_count": null,
   "metadata": {},
   "outputs": [],
   "source": []
  }
 ],
 "metadata": {
  "interpreter": {
   "hash": "e17bc962a7065f71c111c6e6882c9142a11782984e50ce07f2d54177d823e2d5"
  },
  "kernelspec": {
   "display_name": "Python 3.8.10 ('venv': venv)",
   "language": "python",
   "name": "python3"
  },
  "language_info": {
   "codemirror_mode": {
    "name": "ipython",
    "version": 3
   },
   "file_extension": ".py",
   "mimetype": "text/x-python",
   "name": "python",
   "nbconvert_exporter": "python",
   "pygments_lexer": "ipython3",
   "version": "3.6.8"
  },
  "orig_nbformat": 4
 },
 "nbformat": 4,
 "nbformat_minor": 2
}
